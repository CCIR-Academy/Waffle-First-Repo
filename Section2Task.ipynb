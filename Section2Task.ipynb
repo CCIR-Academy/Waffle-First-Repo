{
  "nbformat": 4,
  "nbformat_minor": 0,
  "metadata": {
    "colab": {
      "name": "Section2Task.ipynb",
      "provenance": [],
      "collapsed_sections": [],
      "authorship_tag": "ABX9TyPbgH3+lhBYsjhyM4a3Ycp+",
      "include_colab_link": true
    },
    "kernelspec": {
      "name": "python3",
      "display_name": "Python 3"
    },
    "language_info": {
      "name": "python"
    }
  },
  "cells": [
    {
      "cell_type": "markdown",
      "metadata": {
        "id": "view-in-github",
        "colab_type": "text"
      },
      "source": [
        "<a href=\"https://colab.research.google.com/github/CCIR-Academy/Waffle-First-Repo/blob/main/Section2Task.ipynb\" target=\"_parent\"><img src=\"https://colab.research.google.com/assets/colab-badge.svg\" alt=\"Open In Colab\"/></a>"
      ]
    },
    {
      "cell_type": "code",
      "metadata": {
        "colab": {
          "base_uri": "https://localhost:8080/"
        },
        "id": "dkmbDASMbI3m",
        "outputId": "690adb6b-e799-4ad6-d3ac-0704221c09b3"
      },
      "source": [
        "# Challenge 1: Try to calculate the sum of all integers between 0 to 100 in your own way.\n",
        "\n",
        "Sum_of_Int = sum(range(100+1))\n",
        "print(Sum_of_Int)\n",
        "\n"
      ],
      "execution_count": null,
      "outputs": [
        {
          "output_type": "stream",
          "text": [
            "5050\n"
          ],
          "name": "stdout"
        }
      ]
    },
    {
      "cell_type": "code",
      "metadata": {
        "id": "3jPybBlSbSJZ",
        "colab": {
          "base_uri": "https://localhost:8080/"
        },
        "outputId": "04b6fb48-3cc6-43c2-fd02-63b6db51e436"
      },
      "source": [
        "# Challenge 2: Try to define a function which can take 2 parameters of integers, and calculate the sum of all the integers in between.\n",
        "\n",
        "def sumofint(min:int, max:int):\n",
        "  return(sum([x for x in range(min, max +1)]))\n",
        "\n",
        "sumofint(0, 100)"
      ],
      "execution_count": null,
      "outputs": [
        {
          "output_type": "execute_result",
          "data": {
            "text/plain": [
              "5050"
            ]
          },
          "metadata": {
            "tags": []
          },
          "execution_count": 8
        }
      ]
    },
    {
      "cell_type": "code",
      "metadata": {
        "id": "jm_Fmjp6bSPC",
        "colab": {
          "base_uri": "https://localhost:8080/"
        },
        "outputId": "fba32aee-ed97-479a-a18d-4ba3f8296c1c"
      },
      "source": [
        "#Challenge 3: Try to make the function you created for Challenge able to handle inappropriate input exceptions elegantly.\n",
        "\n",
        "def sumIntegers(min_int:int, max_int:int) -> int:   # This line contains some Type Hint for Python to help type handling for developers. Not necessary but recommended if you are doing team projects. \n",
        "    try:\n",
        "        return (sum([x for x in range(min_int, max_int+1)]))\n",
        "    except Exception as err:\n",
        "        print(err)\n",
        "\n",
        "print(f'Successful example: {sumIntegers(0, 100)}')\n",
        "\n",
        "print('Unsuccessful example:')\n",
        "sumIntegers('4', 100)"
      ],
      "execution_count": null,
      "outputs": [
        {
          "output_type": "stream",
          "text": [
            "Successful example: 5050\n",
            "Unsuccessful example:\n",
            "'str' object cannot be interpreted as an integer\n"
          ],
          "name": "stdout"
        }
      ]
    }
  ]
}