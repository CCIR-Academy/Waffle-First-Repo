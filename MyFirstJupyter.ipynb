{
  "nbformat": 4,
  "nbformat_minor": 0,
  "metadata": {
    "colab": {
      "name": "MyFirstJupyter.ipynb",
      "provenance": [],
      "authorship_tag": "ABX9TyO8jpW+vOTBTNsXBumbs/o1",
      "include_colab_link": true
    },
    "kernelspec": {
      "name": "python3",
      "display_name": "Python 3"
    },
    "language_info": {
      "name": "python"
    }
  },
  "cells": [
    {
      "cell_type": "markdown",
      "metadata": {
        "id": "view-in-github",
        "colab_type": "text"
      },
      "source": [
        "<a href=\"https://colab.research.google.com/github/CCIR-Academy/Waffle-First-Repo/blob/main/MyFirstJupyter.ipynb\" target=\"_parent\"><img src=\"https://colab.research.google.com/assets/colab-badge.svg\" alt=\"Open In Colab\"/></a>"
      ]
    },
    {
      "cell_type": "code",
      "metadata": {
        "colab": {
          "base_uri": "https://localhost:8080/"
        },
        "id": "ojaMgLqmGHc_",
        "outputId": "88e80e8e-fc81-4875-f237-34c433969701"
      },
      "source": [
        "numList = [2,7,11,15]\n",
        "targetA = 0\n",
        "targetA = numList[0] + numList[1]\n",
        "print(targetA)\n",
        "print(\"My target equals %s, so I got it %s!\" % (targetA, (\"right\" if targetA == 9 else \"wrong\")))"
      ],
      "execution_count": null,
      "outputs": [
        {
          "output_type": "stream",
          "text": [
            "9\n",
            "My target equals 9, so I got it right!\n"
          ],
          "name": "stdout"
        }
      ]
    },
    {
      "cell_type": "code",
      "metadata": {
        "id": "mJzomgwLGoX7",
        "colab": {
          "base_uri": "https://localhost:8080/"
        },
        "outputId": "292a5f11-3144-4e18-b9a5-3e1849791ea2"
      },
      "source": [
        "numList = [2,7,11,15]\n",
        "targetList = numList[::-1]\n",
        "\n",
        "print(\"My target List is %s\" % targetList)"
      ],
      "execution_count": null,
      "outputs": [
        {
          "output_type": "stream",
          "text": [
            "My target List is [15, 11, 7, 2]\n"
          ],
          "name": "stdout"
        }
      ]
    },
    {
      "cell_type": "code",
      "metadata": {
        "colab": {
          "base_uri": "https://localhost:8080/"
        },
        "id": "jmh5me-P2Eks",
        "outputId": "2d62343c-8106-483d-8d5d-f4b053f64cd2"
      },
      "source": [
        "numList = [2,7,11,15]\n",
        "numListSum = 0\n",
        "for ele in range(0, len(numList)):\n",
        "    numListSum = numListSum + numList[ele]\n",
        "\n",
        "\n",
        "\n",
        "\n",
        "print(\"My sum equals %s, so I got it %s!\" % (numListSum, (\"right\" if numListSum == 35 else \"wrong\")))"
      ],
      "execution_count": null,
      "outputs": [
        {
          "output_type": "stream",
          "text": [
            "My sum equals 35, so I got it right!\n"
          ],
          "name": "stdout"
        }
      ]
    },
    {
      "cell_type": "code",
      "metadata": {
        "colab": {
          "base_uri": "https://localhost:8080/"
        },
        "id": "wX--f_rmZIea",
        "outputId": "066ef9fe-b4a3-4e44-f659-664b73b6c007"
      },
      "source": [
        "# Challenge 4: Sort the list from small to big!\n",
        "numList = [7,2,15,11]\n",
        "targetList = []\n",
        "### Write your code below\n",
        "targetList = sorted(numList)\n",
        "\n",
        " \n",
        "\n",
        "\n",
        "\n",
        "\n",
        "\n",
        "### Write your code above\n",
        "print(\"My target List is %s\" % targetList)"
      ],
      "execution_count": null,
      "outputs": [
        {
          "output_type": "stream",
          "text": [
            "My target List is [2, 7, 11, 15]\n"
          ],
          "name": "stdout"
        }
      ]
    }
  ]
}